{
 "cells": [
  {
   "cell_type": "code",
   "execution_count": 24,
   "metadata": {},
   "outputs": [],
   "source": [
    "from tensorboard.backend.event_processing import event_accumulator"
   ]
  },
  {
   "cell_type": "code",
   "execution_count": 26,
   "metadata": {},
   "outputs": [
    {
     "data": {
      "text/plain": [
       "'tensorboard.backend.event_processing.event_accumulator'"
      ]
     },
     "execution_count": 26,
     "metadata": {},
     "output_type": "execute_result"
    }
   ],
   "source": []
  },
  {
   "cell_type": "code",
   "execution_count": 22,
   "metadata": {},
   "outputs": [
    {
     "data": {
      "text/plain": [
       "<tensorboard.backend.event_processing.event_accumulator.EventAccumulator at 0x1fe82991e80>"
      ]
     },
     "execution_count": 22,
     "metadata": {},
     "output_type": "execute_result"
    }
   ],
   "source": [
    "file = r'E:\\Python\\iLearn\\thexp\\.thexp\\experiments\\thexp\\myExp\\0005.aebd26a8\\board\\events.out.tfevents.1589331736.DESKTOP-VBH8L9D.11048.0.bd'\n",
    "\n",
    "ea = event_accumulator.EventAccumulator(file,\n",
    "                                         size_guidance={  # see below regarding this argument\n",
    "                                             event_accumulator.COMPRESSED_HISTOGRAMS: 500,\n",
    "                                             event_accumulator.IMAGES: 4,\n",
    "                                             event_accumulator.AUDIO: 4,\n",
    "                                             event_accumulator.SCALARS: 0,\n",
    "                                             event_accumulator.HISTOGRAMS: 1,\n",
    "                                         })\n",
    "ea.Reload()"
   ]
  },
  {
   "cell_type": "code",
   "execution_count": 23,
   "metadata": {},
   "outputs": [
    {
     "data": {
      "text/plain": [
       "{'images': [],\n",
       " 'audio': [],\n",
       " 'histograms': [],\n",
       " 'scalars': ['_auto_train_q',\n",
       "  '_auto_train_w',\n",
       "  '_auto_train_e',\n",
       "  '_auto_train_a',\n",
       "  '_auto_train_s',\n",
       "  '_auto_train_d',\n",
       "  '_auto_train_z',\n",
       "  '_auto_train_x',\n",
       "  '_auto_train_c',\n",
       "  '_auto_train_r',\n",
       "  '_auto_train_t',\n",
       "  '_auto_train_y',\n",
       "  '_auto_train_f',\n",
       "  '_auto_train_g',\n",
       "  '_auto_train_h',\n",
       "  '_auto_train_v',\n",
       "  '_auto_train_b',\n",
       "  '_auto_train_n',\n",
       "  '_auto_train_u',\n",
       "  '_auto_train_i',\n",
       "  '_auto_train_o',\n",
       "  '_auto_train_j',\n",
       "  '_auto_train_k',\n",
       "  '_auto_train_l'],\n",
       " 'distributions': [],\n",
       " 'tensors': [],\n",
       " 'graph': False,\n",
       " 'meta_graph': False,\n",
       " 'run_metadata': []}"
      ]
     },
     "execution_count": 23,
     "metadata": {},
     "output_type": "execute_result"
    }
   ],
   "source": [
    "ea.Tags()"
   ]
  },
  {
   "cell_type": "code",
   "execution_count": 14,
   "metadata": {},
   "outputs": [
    {
     "data": {
      "text/plain": [
       "0.22987909615039825"
      ]
     },
     "execution_count": 14,
     "metadata": {},
     "output_type": "execute_result"
    }
   ],
   "source": [
    "ea.Scalars(\"q\")"
   ]
  },
  {
   "cell_type": "code",
   "execution_count": 11,
   "metadata": {},
   "outputs": [],
   "source": [
    "import time"
   ]
  },
  {
   "cell_type": "code",
   "execution_count": 12,
   "metadata": {},
   "outputs": [
    {
     "data": {
      "text/plain": [
       "1589330821.5239234"
      ]
     },
     "execution_count": 12,
     "metadata": {},
     "output_type": "execute_result"
    }
   ],
   "source": [
    "time.time()"
   ]
  }
 ],
 "metadata": {
  "kernelspec": {
   "display_name": "Python 3",
   "language": "python",
   "name": "python3"
  },
  "language_info": {
   "codemirror_mode": {
    "name": "ipython",
    "version": 3
   },
   "file_extension": ".py",
   "mimetype": "text/x-python",
   "name": "python",
   "nbconvert_exporter": "python",
   "pygments_lexer": "ipython3",
   "version": "3.7.3"
  }
 },
 "nbformat": 4,
 "nbformat_minor": 2
}
